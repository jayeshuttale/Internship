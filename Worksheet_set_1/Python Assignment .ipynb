{
 "cells": [
  {
   "cell_type": "markdown",
   "id": "a9d7e9e6",
   "metadata": {},
   "source": [
    "1. C) % "
   ]
  },
  {
   "cell_type": "markdown",
   "id": "8c32d0f5",
   "metadata": {},
   "source": [
    "2. B) 0"
   ]
  },
  {
   "cell_type": "markdown",
   "id": "07e91da9",
   "metadata": {},
   "source": [
    "3. C) 24"
   ]
  },
  {
   "cell_type": "markdown",
   "id": "431f65ec",
   "metadata": {},
   "source": [
    "4. A) 2"
   ]
  },
  {
   "cell_type": "markdown",
   "id": "4c9a2df0",
   "metadata": {},
   "source": [
    "5. D) 6"
   ]
  },
  {
   "cell_type": "markdown",
   "id": "a859fa8f",
   "metadata": {},
   "source": [
    "6. C) the finally block will be executed no matter if the try block raises an error or not"
   ]
  },
  {
   "cell_type": "markdown",
   "id": "ef3798be",
   "metadata": {},
   "source": [
    "7. A) It is used to raise an exception."
   ]
  },
  {
   "cell_type": "markdown",
   "id": "cce03bac",
   "metadata": {},
   "source": [
    "8. C) in defining a generator"
   ]
  },
  {
   "cell_type": "markdown",
   "id": "96d67f8d",
   "metadata": {},
   "source": [
    "9. A)_abc C)abc2"
   ]
  },
  {
   "cell_type": "markdown",
   "id": "98cd0cd5",
   "metadata": {},
   "source": [
    "10. A) yield B) raise"
   ]
  },
  {
   "cell_type": "code",
   "execution_count": 3,
   "id": "e3af830c",
   "metadata": {},
   "outputs": [
    {
     "name": "stdout",
     "output_type": "stream",
     "text": [
      "Enter Number: 12\n",
      "Factorial of 12 is 479001600\n"
     ]
    }
   ],
   "source": [
    "#Q11\n",
    "\n",
    "Num=int(input(\"Enter Number: \"))\n",
    "i,j=1,1\n",
    "while i<=Num:\n",
    "    j*=i\n",
    "    i+=1\n",
    "print(\"Factorial of\" ,Num, \"is\",j)"
   ]
  },
  {
   "cell_type": "code",
   "execution_count": 4,
   "id": "46b59faa",
   "metadata": {},
   "outputs": [
    {
     "name": "stdout",
     "output_type": "stream",
     "text": [
      "Enter Number: 12\n",
      "12 is composite\n"
     ]
    }
   ],
   "source": [
    "#Q12\n",
    "\n",
    "Num=int(input(\"Enter Number: \"))\n",
    "for i in range(2,Num):\n",
    "    if Num%i==0:\n",
    "        print(Num,\"is composite\")\n",
    "        break\n",
    "else:\n",
    "    print(Num,\"is prime\")"
   ]
  },
  {
   "cell_type": "code",
   "execution_count": 5,
   "id": "15fe005a",
   "metadata": {},
   "outputs": [
    {
     "name": "stdout",
     "output_type": "stream",
     "text": [
      "malayalam is Palinadrome\n"
     ]
    }
   ],
   "source": [
    "#Q13\n",
    "\n",
    "def isPalindrome(x):\n",
    "    if x==x[::-1]:\n",
    "        print(x,\"is Palinadrome\")\n",
    "    else:\n",
    "        print(x,\"is not Palinadrome\")\n",
    "isPalindrome(\"malayalam\")"
   ]
  },
  {
   "cell_type": "code",
   "execution_count": 6,
   "id": "9f6e080a",
   "metadata": {},
   "outputs": [
    {
     "data": {
      "text/plain": [
       "13.0"
      ]
     },
     "execution_count": 6,
     "metadata": {},
     "output_type": "execute_result"
    }
   ],
   "source": [
    "#Q14\n",
    "import math\n",
    "def findangled(x,y):\n",
    "    z=math.sqrt(x**2+y**2)\n",
    "    return z\n",
    "\n",
    "findangled(5,12)"
   ]
  },
  {
   "cell_type": "code",
   "execution_count": 7,
   "id": "7323a22f",
   "metadata": {},
   "outputs": [
    {
     "name": "stdout",
     "output_type": "stream",
     "text": [
      "Enter string: malayalam\n",
      "{'m': 2, 'a': 4, 'l': 2, 'y': 1}\n"
     ]
    }
   ],
   "source": [
    "#Q15\n",
    "\n",
    "string=input(\"Enter string: \")\n",
    "all_freq={}\n",
    "for i in string:\n",
    "    if i in all_freq:\n",
    "        all_freq[i]+=1\n",
    "    else:\n",
    "        all_freq[i]=1\n",
    "        \n",
    "print(str(all_freq))\n",
    "   "
   ]
  }
 ],
 "metadata": {
  "kernelspec": {
   "display_name": "Python 3 (ipykernel)",
   "language": "python",
   "name": "python3"
  },
  "language_info": {
   "codemirror_mode": {
    "name": "ipython",
    "version": 3
   },
   "file_extension": ".py",
   "mimetype": "text/x-python",
   "name": "python",
   "nbconvert_exporter": "python",
   "pygments_lexer": "ipython3",
   "version": "3.10.9"
  }
 },
 "nbformat": 4,
 "nbformat_minor": 5
}
